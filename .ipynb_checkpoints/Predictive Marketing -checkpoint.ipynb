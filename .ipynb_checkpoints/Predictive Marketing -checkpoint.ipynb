{
 "cells": [
  {
   "cell_type": "markdown",
   "id": "435823b7",
   "metadata": {},
   "source": [
    "# in this project we will use unsupervized machine learning in order to categorize costumers based on some features of their purchase behavior  "
   ]
  },
  {
   "cell_type": "markdown",
   "id": "95649a56",
   "metadata": {},
   "source": [
    "# Data understanding :"
   ]
  },
  {
   "cell_type": "code",
   "execution_count": 3,
   "id": "11e8bf57",
   "metadata": {},
   "outputs": [],
   "source": [
    "#     order_id – (A unique number to identity the order)\n",
    "#     user_id - (A unique number to identify the user)\n",
    "#     order_number – (Number of the order)\n",
    "#     order_dow – (Day of the Week the order was made)\n",
    "#     order_hour_of_day – (Time of the order)\n",
    "#     days_since_prior_order - (History of the order)\n",
    "#     product_id – (Id of the product)\n",
    "#     add_to_cart_order – (Number of items added to cart)\n",
    "#     reordered – (If the reorder took place)\n",
    "#     department_id - (Unique number allocated to each department)\n",
    "#     department – (Names of the departments)\n",
    "#     product_name – (Name of the products)\n",
    "    \n"
   ]
  },
  {
   "cell_type": "markdown",
   "id": "6a16f72b",
   "metadata": {},
   "source": [
    "# to further understand the data we will be doing the below steps :"
   ]
  },
  {
   "cell_type": "code",
   "execution_count": 4,
   "id": "74eeea59",
   "metadata": {},
   "outputs": [],
   "source": [
    "# Importing packages\n",
    "# Loading data\n",
    "# Get information on the data\n",
    "# Conducting summary statistics\n",
    "# Taking care of Null values\n",
    "# Converting data types"
   ]
  },
  {
   "cell_type": "code",
   "execution_count": 6,
   "id": "c63cf41f",
   "metadata": {},
   "outputs": [],
   "source": [
    "#importing packages  :\n",
    "import pandas as pd\n",
    "import numpy as np\n",
    "import seaborn as sns\n",
    "import matplotlib.pyplot as plt\n",
    "from sklearn.cluster import KMeans , k_means\n",
    "import warnings\n",
    "warnings.filterwarnings('ignore')"
   ]
  },
  {
   "cell_type": "code",
   "execution_count": 13,
   "id": "96efabb7",
   "metadata": {},
   "outputs": [
    {
     "data": {
      "text/html": [
       "<div>\n",
       "<style scoped>\n",
       "    .dataframe tbody tr th:only-of-type {\n",
       "        vertical-align: middle;\n",
       "    }\n",
       "\n",
       "    .dataframe tbody tr th {\n",
       "        vertical-align: top;\n",
       "    }\n",
       "\n",
       "    .dataframe thead th {\n",
       "        text-align: right;\n",
       "    }\n",
       "</style>\n",
       "<table border=\"1\" class=\"dataframe\">\n",
       "  <thead>\n",
       "    <tr style=\"text-align: right;\">\n",
       "      <th></th>\n",
       "      <th>order_id</th>\n",
       "      <th>user_id</th>\n",
       "      <th>order_number</th>\n",
       "      <th>order_dow</th>\n",
       "      <th>order_hour_of_day</th>\n",
       "      <th>days_since_prior_order</th>\n",
       "      <th>product_id</th>\n",
       "      <th>add_to_cart_order</th>\n",
       "      <th>reordered</th>\n",
       "      <th>department_id</th>\n",
       "      <th>department</th>\n",
       "      <th>product_name</th>\n",
       "    </tr>\n",
       "  </thead>\n",
       "  <tbody>\n",
       "    <tr>\n",
       "      <th>0</th>\n",
       "      <td>2425083</td>\n",
       "      <td>49125</td>\n",
       "      <td>1</td>\n",
       "      <td>2</td>\n",
       "      <td>18</td>\n",
       "      <td>NaN</td>\n",
       "      <td>17</td>\n",
       "      <td>1</td>\n",
       "      <td>0</td>\n",
       "      <td>13</td>\n",
       "      <td>pantry</td>\n",
       "      <td>baking ingredients</td>\n",
       "    </tr>\n",
       "    <tr>\n",
       "      <th>1</th>\n",
       "      <td>2425083</td>\n",
       "      <td>49125</td>\n",
       "      <td>1</td>\n",
       "      <td>2</td>\n",
       "      <td>18</td>\n",
       "      <td>NaN</td>\n",
       "      <td>91</td>\n",
       "      <td>2</td>\n",
       "      <td>0</td>\n",
       "      <td>16</td>\n",
       "      <td>dairy eggs</td>\n",
       "      <td>soy lactosefree</td>\n",
       "    </tr>\n",
       "    <tr>\n",
       "      <th>2</th>\n",
       "      <td>2425083</td>\n",
       "      <td>49125</td>\n",
       "      <td>1</td>\n",
       "      <td>2</td>\n",
       "      <td>18</td>\n",
       "      <td>NaN</td>\n",
       "      <td>36</td>\n",
       "      <td>3</td>\n",
       "      <td>0</td>\n",
       "      <td>16</td>\n",
       "      <td>dairy eggs</td>\n",
       "      <td>butter</td>\n",
       "    </tr>\n",
       "    <tr>\n",
       "      <th>3</th>\n",
       "      <td>2425083</td>\n",
       "      <td>49125</td>\n",
       "      <td>1</td>\n",
       "      <td>2</td>\n",
       "      <td>18</td>\n",
       "      <td>NaN</td>\n",
       "      <td>83</td>\n",
       "      <td>4</td>\n",
       "      <td>0</td>\n",
       "      <td>4</td>\n",
       "      <td>produce</td>\n",
       "      <td>fresh vegetables</td>\n",
       "    </tr>\n",
       "    <tr>\n",
       "      <th>4</th>\n",
       "      <td>2425083</td>\n",
       "      <td>49125</td>\n",
       "      <td>1</td>\n",
       "      <td>2</td>\n",
       "      <td>18</td>\n",
       "      <td>NaN</td>\n",
       "      <td>83</td>\n",
       "      <td>5</td>\n",
       "      <td>0</td>\n",
       "      <td>4</td>\n",
       "      <td>produce</td>\n",
       "      <td>fresh vegetables</td>\n",
       "    </tr>\n",
       "    <tr>\n",
       "      <th>...</th>\n",
       "      <td>...</td>\n",
       "      <td>...</td>\n",
       "      <td>...</td>\n",
       "      <td>...</td>\n",
       "      <td>...</td>\n",
       "      <td>...</td>\n",
       "      <td>...</td>\n",
       "      <td>...</td>\n",
       "      <td>...</td>\n",
       "      <td>...</td>\n",
       "      <td>...</td>\n",
       "      <td>...</td>\n",
       "    </tr>\n",
       "    <tr>\n",
       "      <th>2019496</th>\n",
       "      <td>3390742</td>\n",
       "      <td>199430</td>\n",
       "      <td>16</td>\n",
       "      <td>3</td>\n",
       "      <td>18</td>\n",
       "      <td>5.0</td>\n",
       "      <td>83</td>\n",
       "      <td>8</td>\n",
       "      <td>0</td>\n",
       "      <td>4</td>\n",
       "      <td>produce</td>\n",
       "      <td>fresh vegetables</td>\n",
       "    </tr>\n",
       "    <tr>\n",
       "      <th>2019497</th>\n",
       "      <td>458285</td>\n",
       "      <td>128787</td>\n",
       "      <td>42</td>\n",
       "      <td>2</td>\n",
       "      <td>19</td>\n",
       "      <td>3.0</td>\n",
       "      <td>115</td>\n",
       "      <td>1</td>\n",
       "      <td>1</td>\n",
       "      <td>7</td>\n",
       "      <td>beverages</td>\n",
       "      <td>water seltzer sparkling water</td>\n",
       "    </tr>\n",
       "    <tr>\n",
       "      <th>2019498</th>\n",
       "      <td>458285</td>\n",
       "      <td>128787</td>\n",
       "      <td>42</td>\n",
       "      <td>2</td>\n",
       "      <td>19</td>\n",
       "      <td>3.0</td>\n",
       "      <td>32</td>\n",
       "      <td>2</td>\n",
       "      <td>1</td>\n",
       "      <td>4</td>\n",
       "      <td>produce</td>\n",
       "      <td>packaged produce</td>\n",
       "    </tr>\n",
       "    <tr>\n",
       "      <th>2019499</th>\n",
       "      <td>458285</td>\n",
       "      <td>128787</td>\n",
       "      <td>42</td>\n",
       "      <td>2</td>\n",
       "      <td>19</td>\n",
       "      <td>3.0</td>\n",
       "      <td>32</td>\n",
       "      <td>3</td>\n",
       "      <td>1</td>\n",
       "      <td>4</td>\n",
       "      <td>produce</td>\n",
       "      <td>packaged produce</td>\n",
       "    </tr>\n",
       "    <tr>\n",
       "      <th>2019500</th>\n",
       "      <td>458285</td>\n",
       "      <td>128787</td>\n",
       "      <td>42</td>\n",
       "      <td>2</td>\n",
       "      <td>19</td>\n",
       "      <td>3.0</td>\n",
       "      <td>123</td>\n",
       "      <td>4</td>\n",
       "      <td>1</td>\n",
       "      <td>4</td>\n",
       "      <td>produce</td>\n",
       "      <td>packaged vegetables fruits</td>\n",
       "    </tr>\n",
       "  </tbody>\n",
       "</table>\n",
       "<p>2019501 rows × 12 columns</p>\n",
       "</div>"
      ],
      "text/plain": [
       "         order_id  user_id  order_number  order_dow  order_hour_of_day  \\\n",
       "0         2425083    49125             1          2                 18   \n",
       "1         2425083    49125             1          2                 18   \n",
       "2         2425083    49125             1          2                 18   \n",
       "3         2425083    49125             1          2                 18   \n",
       "4         2425083    49125             1          2                 18   \n",
       "...           ...      ...           ...        ...                ...   \n",
       "2019496   3390742   199430            16          3                 18   \n",
       "2019497    458285   128787            42          2                 19   \n",
       "2019498    458285   128787            42          2                 19   \n",
       "2019499    458285   128787            42          2                 19   \n",
       "2019500    458285   128787            42          2                 19   \n",
       "\n",
       "         days_since_prior_order  product_id  add_to_cart_order  reordered  \\\n",
       "0                           NaN          17                  1          0   \n",
       "1                           NaN          91                  2          0   \n",
       "2                           NaN          36                  3          0   \n",
       "3                           NaN          83                  4          0   \n",
       "4                           NaN          83                  5          0   \n",
       "...                         ...         ...                ...        ...   \n",
       "2019496                     5.0          83                  8          0   \n",
       "2019497                     3.0         115                  1          1   \n",
       "2019498                     3.0          32                  2          1   \n",
       "2019499                     3.0          32                  3          1   \n",
       "2019500                     3.0         123                  4          1   \n",
       "\n",
       "         department_id  department                   product_name  \n",
       "0                   13      pantry             baking ingredients  \n",
       "1                   16  dairy eggs                soy lactosefree  \n",
       "2                   16  dairy eggs                         butter  \n",
       "3                    4     produce               fresh vegetables  \n",
       "4                    4     produce               fresh vegetables  \n",
       "...                ...         ...                            ...  \n",
       "2019496              4     produce               fresh vegetables  \n",
       "2019497              7   beverages  water seltzer sparkling water  \n",
       "2019498              4     produce               packaged produce  \n",
       "2019499              4     produce               packaged produce  \n",
       "2019500              4     produce     packaged vegetables fruits  \n",
       "\n",
       "[2019501 rows x 12 columns]"
      ]
     },
     "execution_count": 13,
     "metadata": {},
     "output_type": "execute_result"
    }
   ],
   "source": [
    "#Loading data \n",
    "main_data= pd.read_csv('C:\\\\Users\\\\ismai\\\\Desktop\\\\Predictive marketing\\\\ECommerce_consumer behaviour.csv')\n",
    "df=main_data.copy()\n",
    "df"
   ]
  },
  {
   "cell_type": "code",
   "execution_count": 14,
   "id": "e6de8fa5",
   "metadata": {},
   "outputs": [
    {
     "name": "stdout",
     "output_type": "stream",
     "text": [
      "<class 'pandas.core.frame.DataFrame'>\n",
      "RangeIndex: 2019501 entries, 0 to 2019500\n",
      "Data columns (total 12 columns):\n",
      " #   Column                  Dtype  \n",
      "---  ------                  -----  \n",
      " 0   order_id                int64  \n",
      " 1   user_id                 int64  \n",
      " 2   order_number            int64  \n",
      " 3   order_dow               int64  \n",
      " 4   order_hour_of_day       int64  \n",
      " 5   days_since_prior_order  float64\n",
      " 6   product_id              int64  \n",
      " 7   add_to_cart_order       int64  \n",
      " 8   reordered               int64  \n",
      " 9   department_id           int64  \n",
      " 10  department              object \n",
      " 11  product_name            object \n",
      "dtypes: float64(1), int64(9), object(2)\n",
      "memory usage: 184.9+ MB\n"
     ]
    }
   ],
   "source": [
    "#getting some info about the data \n",
    "df.info()"
   ]
  },
  {
   "cell_type": "code",
   "execution_count": 32,
   "id": "86d8297c",
   "metadata": {},
   "outputs": [
    {
     "data": {
      "text/plain": [
       "order_id                  0\n",
       "user_id                   0\n",
       "order_number              0\n",
       "order_dow                 0\n",
       "order_hour_of_day         0\n",
       "days_since_prior_order    0\n",
       "product_id                0\n",
       "add_to_cart_order         0\n",
       "reordered                 0\n",
       "department_id             0\n",
       "department                0\n",
       "product_name              0\n",
       "dtype: int64"
      ]
     },
     "execution_count": 32,
     "metadata": {},
     "output_type": "execute_result"
    }
   ],
   "source": [
    "#detecting which columns have missing values \n",
    "df.isnull().sum()\n",
    "#it shows 124342 for the days_since_prior_order  column but I runned the code \n",
    "#changing some stuff "
   ]
  },
  {
   "cell_type": "code",
   "execution_count": 19,
   "id": "d76abe8b",
   "metadata": {},
   "outputs": [
    {
     "data": {
      "text/plain": [
       "(2019501, 12)"
      ]
     },
     "execution_count": 19,
     "metadata": {},
     "output_type": "execute_result"
    }
   ],
   "source": [
    "df.shape"
   ]
  },
  {
   "cell_type": "code",
   "execution_count": 20,
   "id": "576d8240",
   "metadata": {},
   "outputs": [
    {
     "name": "stdout",
     "output_type": "stream",
     "text": [
      "0.06157065532525114\n"
     ]
    }
   ],
   "source": [
    "print(124342/2019501)"
   ]
  },
  {
   "cell_type": "markdown",
   "id": "6a2b0c19",
   "metadata": {},
   "source": [
    "# Note:\n",
    "from the above summary we can say that we have null values only in the  days_since_prior_order column which is 6.15% of the entitre dataset"
   ]
  },
  {
   "cell_type": "code",
   "execution_count": 25,
   "id": "393b0f6c",
   "metadata": {},
   "outputs": [
    {
     "data": {
      "text/plain": [
       "array([nan,  3.,  6.,  7., 30., 20.,  4.,  8., 15., 10., 28.,  9., 12.,\n",
       "       11.,  2., 25., 13., 29., 14., 21.,  5.,  1., 18.,  0., 19., 17.,\n",
       "       22., 26., 24., 16., 23., 27.])"
      ]
     },
     "execution_count": 25,
     "metadata": {},
     "output_type": "execute_result"
    }
   ],
   "source": [
    "#displaying the possiblities og the data corresponding to the 'days_since_prior_order' column \n",
    "df['days_since_prior_order'].unique()"
   ]
  },
  {
   "cell_type": "code",
   "execution_count": 38,
   "id": "f200fc12",
   "metadata": {},
   "outputs": [],
   "source": [
    "# for col in df.columns:\n",
    "#     if df[col].dtypes== 'float64':\n",
    "df['days_since_prior_order'].fillna(-1,inplace=True)\n",
    "#we set inplace to True to be able to update the original dataself itself"
   ]
  },
  {
   "cell_type": "code",
   "execution_count": 42,
   "id": "1be6bb35",
   "metadata": {},
   "outputs": [
    {
     "data": {
      "text/plain": [
       "order_id                  0\n",
       "user_id                   0\n",
       "order_number              0\n",
       "order_dow                 0\n",
       "order_hour_of_day         0\n",
       "days_since_prior_order    0\n",
       "product_id                0\n",
       "add_to_cart_order         0\n",
       "reordered                 0\n",
       "department_id             0\n",
       "department                0\n",
       "product_name              0\n",
       "dtype: int64"
      ]
     },
     "execution_count": 42,
     "metadata": {},
     "output_type": "execute_result"
    }
   ],
   "source": [
    "df.isnull().sum()"
   ]
  },
  {
   "cell_type": "code",
   "execution_count": 67,
   "id": "42ccdf44",
   "metadata": {},
   "outputs": [
    {
     "data": {
      "text/plain": [
       " 7     214126\n",
       " 30    210814\n",
       " 6     155685\n",
       " 5     129089\n",
       " 4     126250\n",
       "-1     124342\n",
       " 8     118722\n",
       " 3     113263\n",
       " 2      88737\n",
       " 9      75120\n",
       " 14     63414\n",
       " 10     62073\n",
       " 1      59200\n",
       " 13     52204\n",
       " 11     51476\n",
       " 12     48171\n",
       " 15     41531\n",
       " 16     28632\n",
       " 21     28359\n",
       " 0      27673\n",
       " 17     23921\n",
       " 20     23234\n",
       " 18     22777\n",
       " 19     20140\n",
       " 22     19950\n",
       " 28     16459\n",
       " 23     13779\n",
       " 24     12833\n",
       " 27     12804\n",
       " 25     11832\n",
       " 29     11590\n",
       " 26     11301\n",
       "Name: days_since_prior_order, dtype: int64"
      ]
     },
     "execution_count": 67,
     "metadata": {},
     "output_type": "execute_result"
    }
   ],
   "source": [
    "#displaying the occurence of each value  \n",
    "counts=df['days_since_prior_order'].value_counts()\n",
    "counts"
   ]
  },
  {
   "cell_type": "code",
   "execution_count": 45,
   "id": "fc58bf61",
   "metadata": {},
   "outputs": [
    {
     "data": {
      "text/plain": [
       "0"
      ]
     },
     "execution_count": 45,
     "metadata": {},
     "output_type": "execute_result"
    }
   ],
   "source": [
    "counts_noncastable=counts[counts.index%1!=0]\n",
    "total=counts_noncastable.sum()\n",
    "total\n"
   ]
  },
  {
   "cell_type": "code",
   "execution_count": 47,
   "id": "24971f74",
   "metadata": {},
   "outputs": [
    {
     "name": "stdout",
     "output_type": "stream",
     "text": [
      "<class 'pandas.core.frame.DataFrame'>\n",
      "RangeIndex: 2019501 entries, 0 to 2019500\n",
      "Data columns (total 12 columns):\n",
      " #   Column                  Dtype \n",
      "---  ------                  ----- \n",
      " 0   order_id                int64 \n",
      " 1   user_id                 int64 \n",
      " 2   order_number            int64 \n",
      " 3   order_dow               int64 \n",
      " 4   order_hour_of_day       int64 \n",
      " 5   days_since_prior_order  int64 \n",
      " 6   product_id              int64 \n",
      " 7   add_to_cart_order       int64 \n",
      " 8   reordered               int64 \n",
      " 9   department_id           int64 \n",
      " 10  department              object\n",
      " 11  product_name            object\n",
      "dtypes: int64(10), object(2)\n",
      "memory usage: 184.9+ MB\n"
     ]
    }
   ],
   "source": [
    "#we notice that we can cast the value to int without data loss(have 0 as fractional number)\n",
    "df['days_since_prior_order']= df['days_since_prior_order'].astype(np.int64)\n",
    "df.info()"
   ]
  },
  {
   "cell_type": "markdown",
   "id": "4771fdee",
   "metadata": {},
   "source": [
    "# DATA PREPARATION\n",
    "in this section we will focus on :\n",
    "\n",
    "    -Investigating all elements within each feature\n",
    "    \n",
    "    -Aggregating & grouping values to visualize purchasing behaviour\n",
    "    \n",
    "    -Aggregating & grouping values to understand purchasing behaviour\n",
    "    \n",
    "    -Aggregating & grouping values to visualize & identify the most reordered items\n",
    "    \n",
    "    -Aggregating & grouping values to understand product reordered ratio\n",
    "    \n",
    "    -Aggregating & grouping values to visualize reordered ratio"
   ]
  },
  {
   "cell_type": "code",
   "execution_count": 59,
   "id": "758cf882",
   "metadata": {},
   "outputs": [
    {
     "name": "stdout",
     "output_type": "stream",
     "text": [
      "The number of unique values for features order_id : 200000\n",
      "The number of unique values for features user_id : 105273\n",
      "The number of unique values for features order_number : 100\n",
      "The number of unique values for features order_dow : 7 --- [2 3 0 1 6 5 4]\n",
      "The number of unique values for features order_hour_of_day : 24\n",
      "The number of unique values for features days_since_prior_order : 32\n",
      "The number of unique values for features product_id : 134\n",
      "The number of unique values for features add_to_cart_order : 137\n",
      "The number of unique values for features reordered : 2 --- [0 1]\n",
      "The number of unique values for features department_id : 21 --- [13 16  4 15 12  1  3  7 14 19  6 17 11 18 20  9 21  5  8 10  2]\n",
      "The number of unique values for features department : 21 --- ['pantry' 'dairy eggs' 'produce' 'canned goods' 'meat seafood' 'frozen'\n",
      " 'bakery' 'beverages' 'breakfast' 'snacks' 'international' 'household'\n",
      " 'personal care' 'babies' 'deli' 'dry goods pasta' 'missing' 'alcohol'\n",
      " 'pets' 'bulk' 'other']\n",
      "The number of unique values for features product_name : 134\n"
     ]
    }
   ],
   "source": [
    "#Investigating all elements within each feature\n",
    "for column in df :\n",
    "    unique_values =df[column].unique()\n",
    "    nr_values =len(unique_values)\n",
    "    if nr_values <22:\n",
    "        print(\"The number of unique values for features {} : {} --- {}\".format(column, nr_values,unique_values))\n",
    "    else:\n",
    "        print(\"The number of unique values for features {} : {}\".format(column, nr_values))\n",
    "    "
   ]
  },
  {
   "cell_type": "code",
   "execution_count": 61,
   "id": "608dbb9b",
   "metadata": {},
   "outputs": [
    {
     "data": {
      "text/plain": [
       "Index(['order_id', 'user_id', 'order_number', 'order_dow', 'order_hour_of_day',\n",
       "       'days_since_prior_order', 'product_id', 'add_to_cart_order',\n",
       "       'reordered', 'department_id', 'department', 'product_name'],\n",
       "      dtype='object')"
      ]
     },
     "execution_count": 61,
     "metadata": {},
     "output_type": "execute_result"
    }
   ],
   "source": [
    "df.columns "
   ]
  },
  {
   "cell_type": "code",
   "execution_count": 75,
   "id": "1688a6db",
   "metadata": {},
   "outputs": [
    {
     "data": {
      "text/html": [
       "<div>\n",
       "<style scoped>\n",
       "    .dataframe tbody tr th:only-of-type {\n",
       "        vertical-align: middle;\n",
       "    }\n",
       "\n",
       "    .dataframe tbody tr th {\n",
       "        vertical-align: top;\n",
       "    }\n",
       "\n",
       "    .dataframe thead th {\n",
       "        text-align: right;\n",
       "    }\n",
       "</style>\n",
       "<table border=\"1\" class=\"dataframe\">\n",
       "  <thead>\n",
       "    <tr style=\"text-align: right;\">\n",
       "      <th></th>\n",
       "      <th>order_id</th>\n",
       "      <th>add_to_cart_order</th>\n",
       "    </tr>\n",
       "  </thead>\n",
       "  <tbody>\n",
       "    <tr>\n",
       "      <th>0</th>\n",
       "      <td>10</td>\n",
       "      <td>15</td>\n",
       "    </tr>\n",
       "    <tr>\n",
       "      <th>1</th>\n",
       "      <td>11</td>\n",
       "      <td>5</td>\n",
       "    </tr>\n",
       "    <tr>\n",
       "      <th>2</th>\n",
       "      <td>28</td>\n",
       "      <td>16</td>\n",
       "    </tr>\n",
       "    <tr>\n",
       "      <th>3</th>\n",
       "      <td>38</td>\n",
       "      <td>9</td>\n",
       "    </tr>\n",
       "    <tr>\n",
       "      <th>4</th>\n",
       "      <td>56</td>\n",
       "      <td>10</td>\n",
       "    </tr>\n",
       "    <tr>\n",
       "      <th>...</th>\n",
       "      <td>...</td>\n",
       "      <td>...</td>\n",
       "    </tr>\n",
       "    <tr>\n",
       "      <th>199995</th>\n",
       "      <td>3420991</td>\n",
       "      <td>13</td>\n",
       "    </tr>\n",
       "    <tr>\n",
       "      <th>199996</th>\n",
       "      <td>3421019</td>\n",
       "      <td>3</td>\n",
       "    </tr>\n",
       "    <tr>\n",
       "      <th>199997</th>\n",
       "      <td>3421027</td>\n",
       "      <td>12</td>\n",
       "    </tr>\n",
       "    <tr>\n",
       "      <th>199998</th>\n",
       "      <td>3421074</td>\n",
       "      <td>4</td>\n",
       "    </tr>\n",
       "    <tr>\n",
       "      <th>199999</th>\n",
       "      <td>3421080</td>\n",
       "      <td>9</td>\n",
       "    </tr>\n",
       "  </tbody>\n",
       "</table>\n",
       "<p>200000 rows × 2 columns</p>\n",
       "</div>"
      ],
      "text/plain": [
       "        order_id  add_to_cart_order\n",
       "0             10                 15\n",
       "1             11                  5\n",
       "2             28                 16\n",
       "3             38                  9\n",
       "4             56                 10\n",
       "...          ...                ...\n",
       "199995   3420991                 13\n",
       "199996   3421019                  3\n",
       "199997   3421027                 12\n",
       "199998   3421074                  4\n",
       "199999   3421080                  9\n",
       "\n",
       "[200000 rows x 2 columns]"
      ]
     },
     "execution_count": 75,
     "metadata": {},
     "output_type": "execute_result"
    }
   ],
   "source": [
    "# AGGREGATING & GROUPING VALUES TO VISUALIZE PURCHASING BEHAVIOUR\n",
    "grouped=df.groupby(\"order_id\")[\"add_to_cart_order\"].aggregate(\"max\").reset_index()\n",
    "grouped \n",
    "# grouped=grouped.add_to_cart_order.value_counts()\n"
   ]
  },
  {
   "cell_type": "code",
   "execution_count": 82,
   "id": "c1b20421",
   "metadata": {},
   "outputs": [
    {
     "data": {
      "image/png": "[encoded data removed]",
      "text/plain": [
       "<Figure size 1500x1200 with 1 Axes>"
      ]
     },
     "metadata": {},
     "output_type": "display_data"
    }
   ],
   "source": [
    "#plotting a significant figure that display the occurences of the different number of products\n",
    "sns.set_style('dark')\n",
    "f, ax = plt.subplots(figsize=(15, 12))\n",
    "plt.xticks(rotation='vertical')\n",
    "sns.barplot(grouped.index, grouped.values)\n",
    "sns.color_palette(\"husl\", 10)\n",
    "plt.ylabel('Number of unique orders', fontsize=13)\n",
    "plt.xlabel('Number of products added to cart', fontsize=13)\n",
    "plt.show()"
   ]
  }
 ],
 "metadata": {
  "kernelspec": {
   "display_name": "Python 3 (ipykernel)",
   "language": "python",
   "name": "python3"
  },
  "language_info": {
   "codemirror_mode": {
    "name": "ipython",
    "version": 3
   },
   "file_extension": ".py",
   "mimetype": "text/x-python",
   "name": "python",
   "nbconvert_exporter": "python",
   "pygments_lexer": "ipython3",
   "version": "3.9.13"
  }
 },
 "nbformat": 4,
 "nbformat_minor": 5
}
